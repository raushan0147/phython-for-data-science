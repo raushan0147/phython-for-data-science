{
 "cells": [
  {
   "cell_type": "code",
   "execution_count": 12,
   "metadata": {},
   "outputs": [
    {
     "name": "stdout",
     "output_type": "stream",
     "text": [
      "90.0\n",
      "A\n"
     ]
    }
   ],
   "source": [
    "a=int(input(\"maths\"))\n",
    "b=int(input(\"chem\"))\n",
    "c=int(input(\"sci\"))\n",
    "d=int(input(\"sst\"))\n",
    "e=int(input(\"sanskrit\"))\n",
    "if(a<0 or b<0 or c<0 or d<0 or e<0):\n",
    "    print(\" please enter +ve marks\")\n",
    "else:\n",
    "    sum=a+b+c+d+e\n",
    "    per=(sum/500)*100\n",
    "    print(per)\n",
    "    if(per>=90 and per<100) :\n",
    "        print(\"A\")\n",
    "    elif(per>=80 and per<90):\n",
    "        print(\"b\")\n",
    "    elif(per>=70 and per<80):\n",
    "        print(\"c\")\n",
    "    elif(per>=60 and per<70):\n",
    "        print(\"d\")\n",
    "    elif(per>=50 and per<60):\n",
    "        print(\"e\")\n",
    "    else:\n",
    "        print(\"less than 60\")"
   ]
  },
  {
   "cell_type": "code",
   "execution_count": null,
   "metadata": {},
   "outputs": [],
   "source": [
    "file=open(\"C:\\\\Users\\\\RAUSHAN RAJ\\\\Downloads\\\\sample.txt\",\"r\")\n",
    "print(file.read())\n"
   ]
  },
  {
   "cell_type": "code",
   "execution_count": 15,
   "metadata": {},
   "outputs": [
    {
     "name": "stdout",
     "output_type": "stream",
     "text": [
      "#taking imput from user\n",
      "\n"
     ]
    }
   ],
   "source": [
    "#read one line\n",
    "file=open(\"C:\\\\Users\\\\RAUSHAN RAJ\\\\Downloads\\\\sample.txt\",\"r\")\n",
    "print(file.readline())"
   ]
  },
  {
   "cell_type": "code",
   "execution_count": 9,
   "metadata": {},
   "outputs": [
    {
     "name": "stdout",
     "output_type": "stream",
     "text": [
      "exist\n"
     ]
    }
   ],
   "source": [
    "#file handaling\n",
    "file=open(\"C:\\\\Users\\\\RAUSHAN RAJ\\\\Downloads\\\\sample.txt\")\n",
    "if(file):\n",
    "    print(\"exist\")\n",
    "else:\n",
    "    print(\"not exist\")"
   ]
  },
  {
   "cell_type": "code",
   "execution_count": null,
   "metadata": {},
   "outputs": [],
   "source": [
    "#gives 100 bytes data from file\n",
    "file=open(\"C:\\\\Users\\\\RAUSHAN RAJ\\\\Downloads\\\\sample.txt\",\"r\")\n",
    "print(file.read(100))"
   ]
  },
  {
   "cell_type": "code",
   "execution_count": null,
   "metadata": {},
   "outputs": [],
   "source": [
    "#reading two line\n",
    "file=open(\"C:\\\\Users\\\\RAUSHAN RAJ\\\\Downloads\\\\sample.txt\",\"r\")\n",
    "print(file.readline())\n",
    "print(file.readline())\n"
   ]
  },
  {
   "cell_type": "code",
   "execution_count": null,
   "metadata": {},
   "outputs": [],
   "source": [
    "file=open(\"C:\\\\Users\\\\RAUSHAN RAJ\\\\Downloads\\\\raj.txt\",\"r\")\n",
    "for i in file.readlines():\n",
    "     print(i)"
   ]
  },
  {
   "cell_type": "code",
   "execution_count": 25,
   "metadata": {},
   "outputs": [
    {
     "name": "stdout",
     "output_type": "stream",
     "text": [
      "89\n"
     ]
    }
   ],
   "source": [
    "#write any thing\n",
    "file=open(\"C:\\\\Users\\\\RAUSHAN RAJ\\\\Downloads\\\\raj.txt\",\"w\")\n",
    "file.write(str(89))\n",
    "file.close()"
   ]
  },
  {
   "cell_type": "code",
   "execution_count": 72,
   "metadata": {},
   "outputs": [
    {
     "name": "stdout",
     "output_type": "stream",
     "text": [
      "89\n"
     ]
    }
   ],
   "source": [
    "#write and read any thing in file\n",
    "file=open(\"C:\\\\Users\\\\RAUSHAN RAJ\\\\Downloads\\\\raj.txt\",\"w\")\n",
    "file.write(str(89))\n",
    "file.close()\n",
    "file=open(\"C:\\\\Users\\\\RAUSHAN RAJ\\\\Downloads\\\\raj.txt\",\"r\")\n",
    "for i in file.readlines():\n",
    "     print(i)"
   ]
  },
  {
   "cell_type": "code",
   "execution_count": 40,
   "metadata": {},
   "outputs": [
    {
     "name": "stdout",
     "output_type": "stream",
     "text": [
      "sneha       99\n",
      "\n",
      "raushan      99\n",
      "\n",
      "pratik      99\n",
      "\n"
     ]
    }
   ],
   "source": [
    "#wap to input the names and marks of 3 student and write it \n",
    "#into the file\n",
    "file=open(\"C:\\\\Users\\\\RAUSHAN RAJ\\\\Downloads\\\\raj.txt\",\"w\")\n",
    "for i in range (0,3):\n",
    "    name=input (\"enter the name\")\n",
    "    age =int(input(\"enter the marks\"))\n",
    "    file.write(name+\"      \"+str(age)+\"\\n\")\n",
    "file.close()\n",
    "file=open(\"C:\\\\Users\\\\RAUSHAN RAJ\\\\Downloads\\\\raj.txt\",\"r\")\n",
    "for i in file.readlines():\n",
    "     print(i)\n"
   ]
  },
  {
   "cell_type": "code",
   "execution_count": null,
   "metadata": {},
   "outputs": [],
   "source": [
    "#del file\n",
    "import os\n",
    "os.remove(\"C:\\\\Users\\\\RAUSHAN RAJ\\\\Downloads\\\\raj.txt\")"
   ]
  },
  {
   "cell_type": "code",
   "execution_count": 37,
   "metadata": {},
   "outputs": [
    {
     "data": {
      "text/plain": [
       "0"
      ]
     },
     "execution_count": 37,
     "metadata": {},
     "output_type": "execute_result"
    }
   ],
   "source": [
    "import os\n",
    "file=open(\"C:\\\\Users\\\\RAUSHAN RAJ\\\\Downloads\\\\raj.txt\",\"r+\")\n",
    "#file.seek(0)\n",
    "file.truncate()"
   ]
  },
  {
   "cell_type": "code",
   "execution_count": 44,
   "metadata": {},
   "outputs": [
    {
     "name": "stdout",
     "output_type": "stream",
     "text": [
      "0\n",
      "  99\n",
      "raushan      99\n",
      "pratik      99\n",
      "\n",
      "49\n"
     ]
    }
   ],
   "source": [
    "file=open(\"C:\\\\Users\\\\RAUSHAN RAJ\\\\Downloads\\\\raj.txt\")\n",
    "print(file.tell())\n",
    "file.seek(10)\n",
    "print(file.read())\n",
    "print(file.tell())"
   ]
  },
  {
   "cell_type": "code",
   "execution_count": 52,
   "metadata": {},
   "outputs": [
    {
     "name": "stdout",
     "output_type": "stream",
     "text": [
      "sneha       99\n",
      "raushan      99\n",
      "pratik      99\n",
      "\n"
     ]
    }
   ],
   "source": [
    "with open(\"C:\\\\Users\\\\RAUSHAN RAJ\\\\Downloads\\\\raj.txt\",\"r\") as f:\n",
    "       print(f.read())"
   ]
  },
  {
   "cell_type": "code",
   "execution_count": 5,
   "metadata": {},
   "outputs": [
    {
     "name": "stdout",
     "output_type": "stream",
     "text": [
      "11\n",
      "\n",
      " "
     ]
    }
   ],
   "source": [
    "#wap to read all the vowels from a text files\n",
    "file=open(\"C:\\\\Users\\\\RAUSHAN RAJ\\\\Downloads\\\\raj.txt\",\"r\")\n",
    "vowel=0\n",
    "vowellist=['a','e','i','o','u','A','E','I','o','U']\n",
    "for i in file.read():\n",
    "    if i in vowellist:\n",
    "        vowel+=1\n",
    "        print(i,end=\" \")\n",
    "print(vowel)\n",
    "\n",
    "#wap to print only those lines which starts with a"
   ]
  },
  {
   "cell_type": "code",
   "execution_count": 2,
   "metadata": {},
   "outputs": [],
   "source": [
    "#wap to print only those lines which starts with a\n",
    "file=open(\"C:\\\\Users\\\\RAUSHAN RAJ\\\\Downloads\\\\raj.txt\",\"r\")\n",
    "for i in file.readlines():\n",
    "    if(i[0]=='a' or i[0]=='A'):\n",
    "         print(i)\n",
    "         continue"
   ]
  },
  {
   "cell_type": "code",
   "execution_count": null,
   "metadata": {},
   "outputs": [],
   "source": [
    "#wap to to write a list to the file\n",
    "names=['raushan','krishna','kaushiki','pratik']\n",
    "file=open(\"C:\\\\Users\\\\RAUSHAN RAJ\\\\Downloads\\\\raj.txt\",\"w\")\n",
    "for i in names :\n",
    "    file.write(i+\" \"+\"\\n\")\n",
    "file.close()\n",
    "file=open(\"C:\\\\Users\\\\RAUSHAN RAJ\\\\Downloads\\\\raj.txt\",\"r\")\n",
    "print(file.read())\n",
    "\n"
   ]
  },
  {
   "cell_type": "code",
   "execution_count": 96,
   "metadata": {},
   "outputs": [
    {
     "name": "stdout",
     "output_type": "stream",
     "text": [
      "My name is Raushan. I live in Bihar. I am from Muzzafarpur\n"
     ]
    }
   ],
   "source": [
    "file=open(\"C:\\\\Users\\\\RAUSHAN RAJ\\\\Desktop\\\\aman.doc\",\"w\")\n",
    "file.write(\"My name is Raushan. I live in Bihar. I am from Muzzafarpur\")\n",
    "file.close()\n",
    "file=open(\"C:\\\\Users\\\\RAUSHAN RAJ\\\\Desktop\\\\aman.doc\",\"r\")\n",
    "print(file.read())"
   ]
  },
  {
   "cell_type": "code",
   "execution_count": null,
   "metadata": {},
   "outputs": [],
   "source": [
    "#wap to extract characters from various text files and put them into a list"
   ]
  },
  {
   "cell_type": "code",
   "execution_count": 6,
   "metadata": {},
   "outputs": [
    {
     "name": "stdout",
     "output_type": "stream",
     "text": [
      "aman 78\n"
     ]
    }
   ],
   "source": [
    "# oop\n",
    "class student:\n",
    "    name=\"aman\"\n",
    "    marks=78\n",
    "s=student()\n",
    "print(s.name,s.marks)"
   ]
  },
  {
   "cell_type": "code",
   "execution_count": 7,
   "metadata": {},
   "outputs": [
    {
     "name": "stdout",
     "output_type": "stream",
     "text": [
      "this is constructor\n",
      "this is constructor\n",
      "this is constructor\n"
     ]
    }
   ],
   "source": [
    "class student:\n",
    "    def __init__(self):\n",
    "        print(\"this is constructor\")\n",
    "s=student()\n",
    "s2=student()\n",
    "s3=student()"
   ]
  },
  {
   "cell_type": "code",
   "execution_count": 8,
   "metadata": {},
   "outputs": [
    {
     "name": "stdout",
     "output_type": "stream",
     "text": [
      "ron 25\n"
     ]
    }
   ],
   "source": [
    "class student:\n",
    "    def __init__(self):\n",
    "        self.name=\"ron\"\n",
    "        self.age=25\n",
    "s=student()\n",
    "print(s.name,s.age)\n",
    "s2=student()\n",
    "s3=student()"
   ]
  },
  {
   "cell_type": "code",
   "execution_count": 9,
   "metadata": {},
   "outputs": [
    {
     "name": "stdout",
     "output_type": "stream",
     "text": [
      "john 27\n",
      "raj 28\n",
      "rohan 29\n"
     ]
    }
   ],
   "source": [
    "class student:\n",
    "    def __init__(self,n,a):\n",
    "        self.name=n\n",
    "        self.age=a\n",
    "s=student(\"john\",27)\n",
    "print(s.name,s.age)\n",
    "s2=student(\"raj\",28)\n",
    "print(s2.name,s2.age)\n",
    "s3=student(\"rohan\",29)\n",
    "print(s3.name,s3.age)"
   ]
  },
  {
   "cell_type": "code",
   "execution_count": 24,
   "metadata": {},
   "outputs": [
    {
     "name": "stdout",
     "output_type": "stream",
     "text": [
      "john 27\n",
      "alfred 27\n"
     ]
    }
   ],
   "source": [
    "class student:\n",
    "    def __init__(self,n,a):\n",
    "        self.name=n\n",
    "        self.age=a\n",
    "    def change_data(self,n):\n",
    "       self.name=n\n",
    "       return self.name\n",
    "s=student(\"john\",27)\n",
    "print(s.name,s.age)\n",
    "updated_name= s.change_data(\"alfred\")\n",
    "print(s.name,s.age)\n"
   ]
  },
  {
   "cell_type": "code",
   "execution_count": 37,
   "metadata": {},
   "outputs": [
    {
     "name": "stdout",
     "output_type": "stream",
     "text": [
      "49900.0\n"
     ]
    }
   ],
   "source": [
    "#write a program using classes and objects toinput take the employee name and salery as input \n",
    "#and calculate the total salary after deducting 0.2 % salery from it\n",
    "class employee:\n",
    "    def __init__(self,name,salery):\n",
    "           self.name=name\n",
    "           self.salery=salery\n",
    "    def deduct_sal(self):\n",
    "        return self.salery-0.002*self.salery\n",
    "n=input(\"enter the name\")\n",
    "s=float(input(\"enter the salery\"))\n",
    "e=employee(n,s)\n",
    "print(e.deduct_sal())\n",
    "\n",
    "     "
   ]
  },
  {
   "cell_type": "code",
   "execution_count": 61,
   "metadata": {},
   "outputs": [
    {
     "name": "stdout",
     "output_type": "stream",
     "text": [
      "RAJU\n",
      "RAJU\n"
     ]
    }
   ],
   "source": [
    "#wa python class which has two method\n",
    "class string:\n",
    "    def __init__(self,s):\n",
    "        self.str=s\n",
    "    def upper_case(self):\n",
    "       print (self.str.upper())\n",
    "       return self.str.upper()\n",
    "n=input(\"enter the string\")\n",
    "str=string(n)\n",
    "print(str.upper_case())\n",
    "\n"
   ]
  },
  {
   "cell_type": "code",
   "execution_count": null,
   "metadata": {},
   "outputs": [],
   "source": []
  },
  {
   "cell_type": "code",
   "execution_count": 48,
   "metadata": {},
   "outputs": [
    {
     "name": "stdout",
     "output_type": "stream",
     "text": [
      "16000\n"
     ]
    }
   ],
   "source": [
    "class employee:\n",
    "    def __init__(self):\n",
    "        self.salery=15000\n",
    "class programmer (employee):\n",
    "    def givebonus (self):\n",
    "        return self.salery+1000\n",
    "p=programmer()\n",
    "print(p.givebonus())"
   ]
  },
  {
   "cell_type": "code",
   "execution_count": 62,
   "metadata": {},
   "outputs": [
    {
     "name": "stdout",
     "output_type": "stream",
     "text": [
      "15100\n",
      "15200\n"
     ]
    }
   ],
   "source": [
    "class employee :\n",
    "    def __init__(self):\n",
    "        self.salery=15000\n",
    "class programmer(employee):\n",
    "    def get_bonus(self):\n",
    "        return self.salery+100\n",
    "class admin (employee):\n",
    "    def get_bonus(self):\n",
    "        return self.salery+200\n",
    "p=programmer()\n",
    "a=admin()\n",
    "print(p.get_bonus())\n",
    "print(a.get_bonus())\n",
    "     "
   ]
  }
 ],
 "metadata": {
  "kernelspec": {
   "display_name": "Python 3",
   "language": "python",
   "name": "python3"
  },
  "language_info": {
   "codemirror_mode": {
    "name": "ipython",
    "version": 3
   },
   "file_extension": ".py",
   "mimetype": "text/x-python",
   "name": "python",
   "nbconvert_exporter": "python",
   "pygments_lexer": "ipython3",
   "version": "3.11.4"
  },
  "orig_nbformat": 4
 },
 "nbformat": 4,
 "nbformat_minor": 2
}
